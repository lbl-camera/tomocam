{
 "cells": [
  {
   "cell_type": "code",
   "execution_count": 2,
   "metadata": {},
   "outputs": [],
   "source": [
    "import numpy as np\n",
    "from pathlib import Path\n",
    "import h5py\n",
    "import matplotlib\n",
    "%matplotlib notebook\n",
    "import matplotlib.pyplot as plt\n",
    "plt.rcParams['figure.figsize'] = [8, 8]"
   ]
  },
  {
   "cell_type": "code",
   "execution_count": null,
   "metadata": {},
   "outputs": [],
   "source": [
    "# tomography related imports\n",
    "import dxchange as dx\n",
    "import tomopy\n",
    "import tomocam"
   ]
  },
  {
   "cell_type": "code",
   "execution_count": 5,
   "metadata": {},
   "outputs": [],
   "source": [
    "input_dir = ''\n",
    "filename = ''\n",
    "axis = 0"
   ]
  },
  {
   "cell_type": "code",
   "execution_count": 6,
   "metadata": {},
   "outputs": [],
   "source": [
    "# Load data\n",
    "datafile = Path(input_dir) / filename\n",
    "if not datafile.is_file():\n",
    "    raise OSError('file not found')\n",
    "\n",
    "# put data into sinogram format\n",
    "tomo, flat, dark, theta = dx.read_aps_32id(datafile, sino=(0, 16, 1))"
   ]
  },
  {
   "cell_type": "code",
   "execution_count": 7,
   "metadata": {},
   "outputs": [],
   "source": [
    "# preprocess data\n",
    "tomo = tomopy.normalize(tomo, flat, dark, out=tomo)\n",
    "\n",
    "# cut-off small values\n",
    "mx = 0.01\n",
    "tomo = np.where(tomo > mx, tomo, mx)\n",
    "\n",
    "# minus log\n",
    "tomo = tomopy.minus_log(tomo)"
   ]
  },
  {
   "cell_type": "code",
   "execution_count": null,
   "metadata": {},
   "outputs": [],
   "source": [
    "# Run tomocam\n",
    "\n",
    "tomo = np.transpose(tomo, [1,0,2])\n",
    "\n",
    "tomo = tomo.astype('f')\n",
    "theta = theta.astype('f')\n",
    "recon = tomocam.MBIR(tomo, theta, axis, num_iters, smoothness, tol, xtol)"
   ]
  },
  {
   "cell_type": "code",
   "execution_count": null,
   "metadata": {},
   "outputs": [],
   "source": [
    "# plot\n",
    "plt.imshow(recon[0], cmap='gray', origin='lower')\n",
    "plt.show()"
   ]
  }
 ],
 "metadata": {
  "kernelspec": {
   "display_name": "tomocam",
   "language": "python",
   "name": "tomocam"
  },
  "language_info": {
   "codemirror_mode": {
    "name": "ipython",
    "version": 3
   },
   "file_extension": ".py",
   "mimetype": "text/x-python",
   "name": "python",
   "nbconvert_exporter": "python",
   "pygments_lexer": "ipython3",
   "version": "3.6.5"
  }
 },
 "nbformat": 4,
 "nbformat_minor": 4
}
